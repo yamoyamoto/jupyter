{
 "cells": [
  {
   "cell_type": "code",
   "execution_count": 11,
   "id": "processed-debut",
   "metadata": {},
   "outputs": [],
   "source": [
    "integral_count = 1000\n",
    "\n",
    "def integral_by_trapezoidal_rule(f, start_x, end_x):\n",
    "    sum = 0\n",
    "    width = (end_x - start_x) / integral_count\n",
    "    for i in range(integral_count):\n",
    "        area = width * (f(start_x + i*width) + f(start_x + (i + 1)*width)) / 2\n",
    "        sum += area\n",
    "    \n",
    "    return sum    "
   ]
  },
  {
   "cell_type": "code",
   "execution_count": 12,
   "id": "super-bearing",
   "metadata": {},
   "outputs": [],
   "source": [
    "def y(x):\n",
    "    return x"
   ]
  },
  {
   "cell_type": "code",
   "execution_count": 13,
   "id": "quiet-spending",
   "metadata": {},
   "outputs": [
    {
     "name": "stdout",
     "output_type": "stream",
     "text": [
      "450.0000000000001\n"
     ]
    }
   ],
   "source": [
    "# 積分関数正しいかチェック\n",
    "area = integral_by_trapezoidal_rule(y, 0, 30)\n",
    "print(area)"
   ]
  },
  {
   "cell_type": "code",
   "execution_count": 10,
   "id": "mineral-simon",
   "metadata": {},
   "outputs": [],
   "source": [
    "# 方程式を定義\n",
    "import numpy as np\n",
    "import math\n",
    "import functools\n",
    "\n",
    "# 定数\n",
    "a = 1\n",
    "b = 1\n",
    "\n",
    "def r(q):\n",
    "    value = q / (1 - b + b * q) ** 2\n",
    "    return value\n",
    "\n",
    "\n",
    "def q_integrand(z, m, q):\n",
    "    integrand = (1 / math.sqrt(2 * np.pi)) * exp(-z**2/2) * np.tanh(b * (m + math.sqrt(a * r(q)) * z)) ** 2\n",
    "    return integrand\n",
    "\n",
    "    \n",
    "def m_integrand(z, m, q):\n",
    "    integrand =  (1 / math.sqrt(2 * np.pi)) * exp(-z**2/2) * np.tanh(b * (m + math.sqrt(a * r(q)) * z))\n",
    "    return integrand\n",
    "    \n",
    "\n",
    "def q(m, q):\n",
    "    func = functools.partial(q_integrand, m=m, r=r(q))\n",
    "    value =  integral_by_trapezoidal_rule(func,  -100, 100)\n",
    "    return value\n",
    "    \n",
    "    \n",
    "def m(m, q):\n",
    "    func = functools.partial(m_integrand, m=m, r=r(q))\n",
    "    value = integral_by_trapezoidal_rule(func,  -100, 100)\n",
    "    return value"
   ]
  },
  {
   "cell_type": "code",
   "execution_count": 14,
   "id": "noticed-debut",
   "metadata": {},
   "outputs": [],
   "source": [
    "# ニュートン法の更新式を定義\n",
    "\n",
    "def differential_of_sqrt_r(q):\n",
    "    value_1 = 1 / (2 * math.sqrt(q / (1 - (b*(1-q))**2) ) )\n",
    "    denominator_of_value_2 = 1 - 2*q * (b-1-q) - (b-1-q)**2\n",
    "    numerator_of_value_2 = (1 - (b-1-q)**2 )**2\n",
    "    return value_1 * numerator_of_value_2 / denominator_of_value_2\n",
    "    \n",
    "\n",
    "# j11\n",
    "def j_11_integrand(z, m, q):\n",
    "    integrand =  (1 / math.sqrt(2 * np.pi)) * exp(-z**2/2) / np.cosh(b * (m + math.sqrt(a * r(q)) * z))**2    * b\n",
    "    return integrand\n",
    "    \n",
    "def j_11(m, q):\n",
    "    func = functools.partial(j_11_integrand, m=m, r=r(q))\n",
    "    return 1 - integral_by_trapezoidal_rule(func, -100, 100)    \n",
    "\n",
    "\n",
    "# j12\n",
    "def j_12_integrand(z, m, q):\n",
    "    integrand =  (1 / math.sqrt(2 * np.pi)) * exp(-z**2/2) / np.cosh(b * (m + math.sqrt(a * r(q)) * z))**2    * math.sqrt(a)*z* differential_of_sqrt_r(q)\n",
    "    return integrand\n",
    "    \n",
    "def j_12(m, q):\n",
    "    func = functools.partial(j_12_integrand, m=m, r=r(q))\n",
    "    return 1 - integral_by_trapezoidal_rule(func, -100, 100)\n",
    "\n",
    "    \n",
    "# j21\n",
    "def j_21_integrand(z, m, q):\n",
    "    integrand =  (1 / math.sqrt(2 * np.pi)) * exp(-z**2/2) / np.cosh(b * (m + math.sqrt(a * r(q)) * z))**2    * b    * 2*np.tanh(b * (m + math.sqrt(a * r(q)) * z))\n",
    "    return integrand\n",
    "    \n",
    "def j_21(m, q):\n",
    "    func = functools.partial(j_21_integrand, m=m, r=r(q))\n",
    "    return 1 - integral_by_trapezoidal_rule(func, -100, 100)\n",
    "    \n",
    "\n",
    "# j22\n",
    "def j_22_integrand(z, m, q):\n",
    "    integrand =  (1 / math.sqrt(2 * np.pi)) * exp(-z**2/2) / np.cosh(b * (m + math.sqrt(a * r(q)) * z))**2    * math.sqrt(a)*z* differential_of_sqrt_r(q)    *2*np.tanh(b * (m + math.sqrt(a * r(q)) * z))\n",
    "    return integrand\n",
    "    \n",
    "def j_22(m, q):\n",
    "    func = functools.partial(j_22_integrand, m=m, r=r(q))\n",
    "    return 1 - integral_by_trapezoidal_rule(func, -100, 100)\n",
    "    "
   ]
  },
  {
   "cell_type": "code",
   "execution_count": null,
   "id": "golden-spine",
   "metadata": {},
   "outputs": [],
   "source": [
    "# 更新フロー\n",
    "# ？？m, qの初期値は、いくつから始めればいい？？\n",
    "\n",
    "\n"
   ]
  }
 ],
 "metadata": {
  "kernelspec": {
   "display_name": "Python 3",
   "language": "python",
   "name": "python3"
  },
  "language_info": {
   "codemirror_mode": {
    "name": "ipython",
    "version": 3
   },
   "file_extension": ".py",
   "mimetype": "text/x-python",
   "name": "python",
   "nbconvert_exporter": "python",
   "pygments_lexer": "ipython3",
   "version": "3.9.2"
  }
 },
 "nbformat": 4,
 "nbformat_minor": 5
}
