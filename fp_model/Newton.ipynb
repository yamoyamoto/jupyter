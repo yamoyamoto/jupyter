{
 "cells": [
  {
   "cell_type": "code",
   "execution_count": 5,
   "id": "electronic-heritage",
   "metadata": {},
   "outputs": [],
   "source": [
    "import numpy as np \n",
    "\n",
    "def func_f(b, m):\n",
    "    return m - np.tanh(b*m)\n",
    "    \n",
    "def func_g(b, m, q):\n",
    "    return q - np.tanh(b*m)**2\n",
    "    \n",
    "\n",
    "def J_11(b, m):\n",
    "    return 1 - (b / (np.cosh(b*m)**2))\n",
    "\n",
    "    \n",
    "def J_12(b, m):\n",
    "    return 0\n",
    "\n",
    "    \n",
    "def J_21(b, m):\n",
    "    return 2 * (b / np.cosh(b*m)**2)\n",
    "    \n",
    "    \n",
    "def J_22(b, m):\n",
    "    return 1\n",
    "\n",
    "def createJMatrics(b, m):\n",
    "    return np.array([\n",
    "        [J_11(b, m), J_12(b, m)],\n",
    "        [J_21(b, m), J_22(b, m)],\n",
    "    ])"
   ]
  },
  {
   "cell_type": "code",
   "execution_count": 11,
   "id": "compact-moscow",
   "metadata": {},
   "outputs": [],
   "source": [
    "min = pow(10, -5)\n",
    "\n",
    "T_arr = np.linspace(0.1, 1.2, 100)\n",
    "result_arr = []\n",
    "\n",
    "for i in range(len(T_arr)):\n",
    "    b = 1/T_arr[i]\n",
    "    # 初期値\n",
    "    m = 0.5\n",
    "    q = 0.5\n",
    "    \n",
    "    while True:\n",
    "        f_g_matrics = np.array([\n",
    "            [func_f(b, m)], \n",
    "            [func_g(b, m, q)]\n",
    "        ])\n",
    "        J_matrics = createJMatrics(b, m)\n",
    "        \n",
    "        delta = np.dot(np.linalg.inv(J_matrics), f_g_matrics)\n",
    "        \n",
    "        if abs(delta[0][0]) < min and abs(delta[1][0]) < min:\n",
    "            result_arr.append([T_arr[i], m, q])\n",
    "            break\n",
    "        \n",
    "        m = m - delta[0][0]\n",
    "        q = q - delta[1][0]"
   ]
  },
  {
   "cell_type": "code",
   "execution_count": 15,
   "id": "funded-blues",
   "metadata": {},
   "outputs": [
    {
     "data": {
      "image/png": "[encoded data removed]",
      "text/plain": [
       "<Figure size 432x288 with 1 Axes>"
      ]
     },
     "metadata": {
      "needs_background": "light"
     },
     "output_type": "display_data"
    }
   ],
   "source": [
    "result_arr = np.array(result_arr)\n",
    "\n",
    "result_arr_t = result_arr[:, 0]\n",
    "result_arr_m = result_arr[:, 1]\n",
    "result_arr_q = result_arr[:, 2]\n",
    "\n",
    "import matplotlib.pyplot as plt\n",
    "\n",
    "fig = plt.figure()\n",
    "ax_3 = fig.add_subplot(111)\n",
    "\n",
    "ax_3.set_xlabel(\"T\", size = 20)\n",
    "ax_3.set_ylabel(\"m\", size = 20)\n",
    "\n",
    "ax_3.plot(result_arr_t, result_arr_m, color=\"red\")\n",
    "plt.show()"
   ]
  },
  {
   "cell_type": "code",
   "execution_count": null,
   "id": "dominican-video",
   "metadata": {},
   "outputs": [],
   "source": []
  }
 ],
 "metadata": {
  "kernelspec": {
   "display_name": "Python 3 (ipykernel)",
   "language": "python",
   "name": "python3"
  },
  "language_info": {
   "codemirror_mode": {
    "name": "ipython",
    "version": 3
   },
   "file_extension": ".py",
   "mimetype": "text/x-python",
   "name": "python",
   "nbconvert_exporter": "python",
   "pygments_lexer": "ipython3",
   "version": "3.9.0"
  }
 },
 "nbformat": 4,
 "nbformat_minor": 5
}
