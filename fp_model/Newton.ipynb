{
 "cells": [
  {
   "cell_type": "code",
   "execution_count": 62,
   "id": "electronic-heritage",
   "metadata": {},
   "outputs": [],
   "source": [
    "import numpy as np \n",
    "\n",
    "def func_f(b, m):\n",
    "    return m - np.tanh(b*m)\n",
    "    \n",
    "def func_g(b, m, q):\n",
    "    return q - np.tanh(b*m)**2\n",
    "    \n",
    "\n",
    "def J_11(b, m):\n",
    "    return 1 - (b / (np.cosh(b*m)**2))\n",
    "\n",
    "    \n",
    "def J_12(b, m):\n",
    "    return 0\n",
    "\n",
    "    \n",
    "def J_21(b, m):\n",
    "    return 2 * (b / np.cosh(b*m)**2)\n",
    "    \n",
    "    \n",
    "def J_22(b, m):\n",
    "    return 1\n",
    "\n",
    "def createJMatrics(b, m):\n",
    "    return np.array([\n",
    "        [J_11(b, m), J_12(b, m)],\n",
    "        [J_21(b, m), J_22(b, m)],\n",
    "    ])\n",
    "\n",
    "\n",
    "class NewtonMethodSolver:\n",
    "    \n",
    "    def __init__(self,args):\n",
    "        self.solve_delta = args[\"solve_delta\"]\n",
    "        self.T_min = args[\"T_min\"]\n",
    "        self.T_max = args[\"T_max\"]\n",
    "        self.T_mesh_num = args[\"T_mesh_num\"]\n",
    "        \n",
    "    def solve(self):\n",
    "        T_arr = np.linspace(self.T_min, self.T_max, self.T_mesh_num)\n",
    "        result_arr = np.array([[0, 1, 0]])\n",
    "        \n",
    "        for i in range(len(T_arr)):\n",
    "            b = 1/T_arr[i]\n",
    "            # 初期値\n",
    "            m = 1.2\n",
    "            q = 1.2\n",
    "\n",
    "            while True:\n",
    "                f_g_matrics = np.array([\n",
    "                    [func_f(b, m)], \n",
    "                    [func_g(b, m, q)]\n",
    "                ])\n",
    "                J_matrics = createJMatrics(b, m)\n",
    "                \n",
    "                # np.dot:行列積, np.linalg.inv:逆行列\n",
    "                delta = np.dot(np.linalg.inv(J_matrics), f_g_matrics)\n",
    "                if abs(delta[0][0]) < self.solve_delta and abs(delta[1][0]) < self.solve_delta:\n",
    "                    result_arr = np.append(result_arr, [[T_arr[i], m, q]], axis=0)\n",
    "                    break\n",
    "                m = m - delta[0][0]\n",
    "                q = q - delta[1][0]\n",
    "                \n",
    "        self.result_arr = result_arr\n",
    "        \n",
    "        \n",
    "    def to_csv(self, filename):\n",
    "        np.savetxt(filename, self.result_arr)"
   ]
  },
  {
   "cell_type": "code",
   "execution_count": 64,
   "id": "aec85372",
   "metadata": {},
   "outputs": [],
   "source": [
    "args = {\n",
    "    \"solve_delta\": pow(10, -5),\n",
    "    \"T_min\": 0.01,\n",
    "    \"T_max\": 1.5,\n",
    "    \"T_mesh_num\": 10000,\n",
    "}\n",
    "\n",
    "solver = NewtonMethodSolver(args)\n",
    "solver.solve()\n",
    "solver.to_csv(\"./a_0_newton.csv\")"
   ]
  },
  {
   "cell_type": "code",
   "execution_count": 65,
   "id": "funded-blues",
   "metadata": {},
   "outputs": [
    {
     "data": {
      "image/png": "[encoded data removed]",
      "text/plain": [
       "<Figure size 432x288 with 1 Axes>"
      ]
     },
     "metadata": {
      "needs_background": "light"
     },
     "output_type": "display_data"
    }
   ],
   "source": [
    "result_arr = np.loadtxt(\"./a_0_newton.csv\")\n",
    "\n",
    "result_arr_t = result_arr[:, 0]\n",
    "result_arr_m = result_arr[:, 1]\n",
    "result_arr_q = result_arr[:, 2]\n",
    "\n",
    "import matplotlib.pyplot as plt\n",
    "\n",
    "fig = plt.figure()\n",
    "ax_3 = fig.add_subplot(111)\n",
    "\n",
    "ax_3.set_xlabel(\"T\", size = 20)\n",
    "ax_3.set_ylabel(\"m\", size = 20)\n",
    "\n",
    "ax_3.plot(result_arr_t, result_arr_m, color=\"red\")\n",
    "plt.show()"
   ]
  },
  {
   "cell_type": "code",
   "execution_count": null,
   "id": "dominican-video",
   "metadata": {},
   "outputs": [],
   "source": []
  }
 ],
 "metadata": {
  "kernelspec": {
   "display_name": "Python 3 (ipykernel)",
   "language": "python",
   "name": "python3"
  },
  "language_info": {
   "codemirror_mode": {
    "name": "ipython",
    "version": 3
   },
   "file_extension": ".py",
   "mimetype": "text/x-python",
   "name": "python",
   "nbconvert_exporter": "python",
   "pygments_lexer": "ipython3",
   "version": "3.9.0"
  }
 },
 "nbformat": 4,
 "nbformat_minor": 5
}
